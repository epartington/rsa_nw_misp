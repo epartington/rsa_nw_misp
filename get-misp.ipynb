{
 "cells": [
  {
   "cell_type": "markdown",
   "metadata": {},
   "source": [
    "# PyMISP  Cancirc test"
   ]
  },
  {
   "cell_type": "code",
   "execution_count": null,
   "metadata": {
    "collapsed": true
   },
   "outputs": [],
   "source": [
    "#!/usr/bin/env python\n",
    "# -*- coding: utf-8 -*-\n",
    "\n",
    "# version 1.2\n",
    "# updated 2019/03/19\n",
    "# added check for last 30 days of data as per Deloitte response\n",
    "\n",
    "import json\n",
    "import datetime\n",
    "\n",
    "# in case you need to install pymisp as part of notebook\n",
    "\n",
    "#import sys \n",
    "#!{sys.executable} -m pip install pymisp\n",
    "\n",
    "# manual install of PyMISP\n",
    "# https://www.circl.lu/doc/misp/pymisp/\n",
    "# install EPEL release\n",
    "#yum install https://dl.fedoraproject.org/pub/epel/epel-release-latest-7.noarch.rpm\n",
    "# install PIP\n",
    "#OWB_FORCE_FIPS_MODE_OFF=1 python\n",
    "#OWB_FORCE_FIPS_MODE_OFF=1 pip install pymisp\n",
    "#OWB_FORCE_FIPS_MODE_OFF=1 pip install --upgrade pip\n",
    "# run script\n",
    "#OWB_FORCE_FIPS_MODE_OFF=1 ./get-misp.py\n",
    "\n",
    "\n",
    "# The URL of the MISP instance to connect to\n",
    "misp_url = 'http://192.168.254.28:80'\n",
    "\n",
    "# Can be found in the MISP web interface under \n",
    "# http://+MISP_URL+/users/view/me -> Authkey\n",
    "misp_key = 'amHOHq5J3rMzeo4NyDELCv4GwEkX1G0yi0lZuuxh'\n",
    "\n",
    "# Should PyMISP verify the MISP certificate\n",
    "misp_verifycert = False\n",
    "\n",
    "from pymisp import PyMISP\n",
    "\n",
    "misp = PyMISP(misp_url, misp_key, debug=False)\n",
    "\n",
    "#get the last 30 days window to only get indicators for that period\n",
    "relevant_date = (datetime.datetime.now() - datetime.timedelta(days=60)).strftime('%Y-%m-%d')"
   ]
  },
  {
   "cell_type": "code",
   "execution_count": null,
   "metadata": {
    "collapsed": true
   },
   "outputs": [],
   "source": [
    "# print out various debug options while building code\n",
    "\n",
    "#r = misp.search_index(published=False)\n",
    "#print(r)"
   ]
  },
  {
   "cell_type": "code",
   "execution_count": null,
   "metadata": {
    "collapsed": true
   },
   "outputs": [],
   "source": [
    "# original query without date limiter\n",
    "#r = misp.search(controller='attributes', type_attribute= ['domain'], deleted='False', to_ids=True)\n",
    "\n",
    "# limiter to grab the last 30 days of indicators\n",
    "r = misp.search(controller='attributes', type_attribute=['domain'], deleted='False', to_ids=True, enforceWarninglist=True, date_from=relevant_date)"
   ]
  },
  {
   "cell_type": "code",
   "execution_count": null,
   "metadata": {
    "collapsed": true
   },
   "outputs": [],
   "source": [
    "#r = misp.search(controller='attributes', type_attribute= ['ip-dst'], deleted='False', to_ids=True)\n",
    "\n",
    "# limiter to grab the last 30 days of indicators\n",
    "r = misp.search(controller='attributes', type_attribute=['ip-dst'], deleted='False', to_ids=True, enforceWarninglist=True, date_from=relevant_date)"
   ]
  },
  {
   "cell_type": "code",
   "execution_count": null,
   "metadata": {
    "collapsed": true
   },
   "outputs": [],
   "source": [
    "#r"
   ]
  },
  {
   "cell_type": "code",
   "execution_count": null,
   "metadata": {
    "collapsed": true
   },
   "outputs": [],
   "source": [
    "#for ev in r['response']['Attribute']:\n",
    "    #print(ev)"
   ]
  },
  {
   "cell_type": "code",
   "execution_count": null,
   "metadata": {},
   "outputs": [],
   "source": [
    "for ev in r['response']['Attribute']:\n",
    "    print(ev['event_id']+','+ev['comment']+','+ev['value']+',misp,'+ev['type'])"
   ]
  }
 ],
 "metadata": {
  "kernelspec": {
   "display_name": "Python 3",
   "language": "python",
   "name": "python3"
  },
  "language_info": {
   "codemirror_mode": {
    "name": "ipython",
    "version": 3
   },
   "file_extension": ".py",
   "mimetype": "text/x-python",
   "name": "python",
   "nbconvert_exporter": "python",
   "pygments_lexer": "ipython3",
   "version": "3.6.2"
  }
 },
 "nbformat": 4,
 "nbformat_minor": 2
}
